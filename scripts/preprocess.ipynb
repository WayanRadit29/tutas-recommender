{
 "cells": [
  {
   "cell_type": "code",
   "execution_count": 2,
   "id": "7c7f087d",
   "metadata": {},
   "outputs": [
    {
     "name": "stdout",
     "output_type": "stream",
     "text": [
      "  id_murid id_tutor  topik_match  gaya_match  metode_match  time_overlap  \\\n",
      "0    M0566    T0008         True        True          True         False   \n",
      "1    M0379    T0013         True        True          True         False   \n",
      "2    M0964    T0013         True        True          True         False   \n",
      "3    M0100    T0017         True        True          True         False   \n",
      "4    M0416    T0018         True        True          True         False   \n",
      "\n",
      "   murid_flexible  tutor_flexible  feedback_score  label  \\\n",
      "0           False           False               0      0   \n",
      "1           False           False               0      0   \n",
      "2           False           False               0      0   \n",
      "3           False           False               0      0   \n",
      "4           False           False               0      0   \n",
      "\n",
      "   average_rating_tutor  total_jam_ngajar_tutor  pernah_gagal  \n",
      "0                  3.71                      72          True  \n",
      "1                  4.60                     323          True  \n",
      "2                  4.60                     323          True  \n",
      "3                  3.99                     131          True  \n",
      "4                  3.97                      18          True  \n",
      "<class 'pandas.core.frame.DataFrame'>\n",
      "RangeIndex: 2012 entries, 0 to 2011\n",
      "Data columns (total 13 columns):\n",
      " #   Column                  Non-Null Count  Dtype  \n",
      "---  ------                  --------------  -----  \n",
      " 0   id_murid                2012 non-null   object \n",
      " 1   id_tutor                2012 non-null   object \n",
      " 2   topik_match             2012 non-null   bool   \n",
      " 3   gaya_match              2012 non-null   bool   \n",
      " 4   metode_match            2012 non-null   bool   \n",
      " 5   time_overlap            2012 non-null   bool   \n",
      " 6   murid_flexible          2012 non-null   bool   \n",
      " 7   tutor_flexible          2012 non-null   bool   \n",
      " 8   feedback_score          2012 non-null   int64  \n",
      " 9   label                   2012 non-null   int64  \n",
      " 10  average_rating_tutor    2012 non-null   float64\n",
      " 11  total_jam_ngajar_tutor  2012 non-null   int64  \n",
      " 12  pernah_gagal            2012 non-null   bool   \n",
      "dtypes: bool(7), float64(1), int64(3), object(2)\n",
      "memory usage: 108.2+ KB\n"
     ]
    },
    {
     "data": {
      "text/plain": [
       "id_murid                  0\n",
       "id_tutor                  0\n",
       "topik_match               0\n",
       "gaya_match                0\n",
       "metode_match              0\n",
       "time_overlap              0\n",
       "murid_flexible            0\n",
       "tutor_flexible            0\n",
       "feedback_score            0\n",
       "label                     0\n",
       "average_rating_tutor      0\n",
       "total_jam_ngajar_tutor    0\n",
       "pernah_gagal              0\n",
       "dtype: int64"
      ]
     },
     "execution_count": 2,
     "metadata": {},
     "output_type": "execute_result"
    }
   ],
   "source": [
    "import pandas as pd\n",
    "\n",
    "df = pd.read_csv('../data/dataset/tutas_recommender_training_features.csv')\n",
    "\n",
    "print(df.head())\n",
    "df.info()\n",
    "df.isnull().sum()\n"
   ]
  },
  {
   "cell_type": "code",
   "execution_count": 3,
   "id": "912620bb",
   "metadata": {},
   "outputs": [
    {
     "name": "stdout",
     "output_type": "stream",
     "text": [
      "Fitur Numerikal :  ['feedback_score', 'label', 'average_rating_tutor', 'total_jam_ngajar_tutor']\n",
      "       feedback_score        label  average_rating_tutor  \\\n",
      "count     2012.000000  2012.000000           2012.000000   \n",
      "mean         3.519384     0.736581              3.973335   \n",
      "std          1.920116     0.440597              0.574820   \n",
      "min          0.000000     0.000000              3.000000   \n",
      "25%          3.000000     0.000000              3.490000   \n",
      "50%          4.000000     1.000000              3.960000   \n",
      "75%          5.000000     1.000000              4.452500   \n",
      "max          5.000000     1.000000              5.000000   \n",
      "\n",
      "       total_jam_ngajar_tutor  \n",
      "count             2012.000000  \n",
      "mean               196.456759  \n",
      "std                109.466772  \n",
      "min                 11.000000  \n",
      "25%                106.000000  \n",
      "50%                193.000000  \n",
      "75%                287.000000  \n",
      "max                400.000000  \n"
     ]
    }
   ],
   "source": [
    "numerical_cols = df.select_dtypes(include=['int64', 'float64']).columns\n",
    "\n",
    "print(\"Fitur Numerikal : \", list(numerical_cols))\n",
    "print(df[numerical_cols].describe())"
   ]
  },
  {
   "cell_type": "code",
   "execution_count": 4,
   "id": "150a5015",
   "metadata": {},
   "outputs": [],
   "source": [
    "# Sekarang kita akan scale pakai standard scaler karena data distribusinya normal dan tidak banyak outlier, kalau banyak outlier, kita harus pakai RobustScaler\n",
    "\n",
    "from sklearn.model_selection import train_test_split\n",
    "from sklearn.preprocessing import StandardScaler\n",
    "\n",
    "df = pd.read_csv('../data/dataset/tutas_recommender_training_features.csv')\n",
    "\n",
    "X = df.drop(columns=['label'])\n",
    "y = df['label']\n",
    "\n",
    "numerical_cols = ['feedback_score', 'average_rating_tutor', 'total_jam_ngajar_tutor']\n",
    "\n",
    "scaler = StandardScaler()\n",
    "X[numerical_cols] = scaler.fit_transform(X[numerical_cols])\n",
    "\n",
    "\n"
   ]
  },
  {
   "cell_type": "code",
   "execution_count": 7,
   "id": "eee1f593",
   "metadata": {},
   "outputs": [],
   "source": [
    "# Sekarang kita split untuk data training dan testing. \n",
    "X_train, X_test, y_train, y_test = train_test_split(X, y, test_size=0.2, random_state=42)\n",
    "\n",
    "X_train.to_csv('../data/dataset/processed/X_train.csv', index=False)\n",
    "X_test.to_csv('../data/dataset/processed/X_test.csv', index=False)\n",
    "y_train.to_csv('../data/dataset/processed/y_train.csv', index=False)\n",
    "y_test.to_csv('../data/dataset/processed/y_test.csv', index=False)\n",
    "\n",
    "\n",
    "\n"
   ]
  }
 ],
 "metadata": {
  "kernelspec": {
   "display_name": "ML_venv (3.12.4)",
   "language": "python",
   "name": "python3"
  },
  "language_info": {
   "codemirror_mode": {
    "name": "ipython",
    "version": 3
   },
   "file_extension": ".py",
   "mimetype": "text/x-python",
   "name": "python",
   "nbconvert_exporter": "python",
   "pygments_lexer": "ipython3",
   "version": "3.12.4"
  }
 },
 "nbformat": 4,
 "nbformat_minor": 5
}
